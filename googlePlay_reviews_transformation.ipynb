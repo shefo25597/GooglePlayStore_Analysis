{
 "cells": [
  {
   "cell_type": "markdown",
   "id": "5cb7c62c",
   "metadata": {},
   "source": [
    "## Import Data"
   ]
  },
  {
   "cell_type": "code",
   "execution_count": 1,
   "id": "9f1645ee",
   "metadata": {},
   "outputs": [],
   "source": [
    "# Import Libraries\n",
    "import pandas as pd\n",
    "import numpy as np\n",
    "import matplotlib.pyplot as plt\n",
    "import seaborn as sns"
   ]
  },
  {
   "cell_type": "code",
   "execution_count": 3,
   "id": "9c9d7584",
   "metadata": {},
   "outputs": [
    {
     "data": {
      "text/html": [
       "<div>\n",
       "<style scoped>\n",
       "    .dataframe tbody tr th:only-of-type {\n",
       "        vertical-align: middle;\n",
       "    }\n",
       "\n",
       "    .dataframe tbody tr th {\n",
       "        vertical-align: top;\n",
       "    }\n",
       "\n",
       "    .dataframe thead th {\n",
       "        text-align: right;\n",
       "    }\n",
       "</style>\n",
       "<table border=\"1\" class=\"dataframe\">\n",
       "  <thead>\n",
       "    <tr style=\"text-align: right;\">\n",
       "      <th></th>\n",
       "      <th>App</th>\n",
       "      <th>Translated_Review</th>\n",
       "      <th>Sentiment</th>\n",
       "      <th>Sentiment_Polarity</th>\n",
       "      <th>Sentiment_Subjectivity</th>\n",
       "    </tr>\n",
       "  </thead>\n",
       "  <tbody>\n",
       "    <tr>\n",
       "      <th>0</th>\n",
       "      <td>10 Best Foods for You</td>\n",
       "      <td>I like eat delicious food. That's I'm cooking ...</td>\n",
       "      <td>Positive</td>\n",
       "      <td>1.00</td>\n",
       "      <td>0.533333</td>\n",
       "    </tr>\n",
       "    <tr>\n",
       "      <th>1</th>\n",
       "      <td>10 Best Foods for You</td>\n",
       "      <td>This help eating healthy exercise regular basis</td>\n",
       "      <td>Positive</td>\n",
       "      <td>0.25</td>\n",
       "      <td>0.288462</td>\n",
       "    </tr>\n",
       "    <tr>\n",
       "      <th>2</th>\n",
       "      <td>10 Best Foods for You</td>\n",
       "      <td>NaN</td>\n",
       "      <td>NaN</td>\n",
       "      <td>NaN</td>\n",
       "      <td>NaN</td>\n",
       "    </tr>\n",
       "    <tr>\n",
       "      <th>3</th>\n",
       "      <td>10 Best Foods for You</td>\n",
       "      <td>Works great especially going grocery store</td>\n",
       "      <td>Positive</td>\n",
       "      <td>0.40</td>\n",
       "      <td>0.875000</td>\n",
       "    </tr>\n",
       "    <tr>\n",
       "      <th>4</th>\n",
       "      <td>10 Best Foods for You</td>\n",
       "      <td>Best idea us</td>\n",
       "      <td>Positive</td>\n",
       "      <td>1.00</td>\n",
       "      <td>0.300000</td>\n",
       "    </tr>\n",
       "    <tr>\n",
       "      <th>...</th>\n",
       "      <td>...</td>\n",
       "      <td>...</td>\n",
       "      <td>...</td>\n",
       "      <td>...</td>\n",
       "      <td>...</td>\n",
       "    </tr>\n",
       "    <tr>\n",
       "      <th>64290</th>\n",
       "      <td>Houzz Interior Design Ideas</td>\n",
       "      <td>NaN</td>\n",
       "      <td>NaN</td>\n",
       "      <td>NaN</td>\n",
       "      <td>NaN</td>\n",
       "    </tr>\n",
       "    <tr>\n",
       "      <th>64291</th>\n",
       "      <td>Houzz Interior Design Ideas</td>\n",
       "      <td>NaN</td>\n",
       "      <td>NaN</td>\n",
       "      <td>NaN</td>\n",
       "      <td>NaN</td>\n",
       "    </tr>\n",
       "    <tr>\n",
       "      <th>64292</th>\n",
       "      <td>Houzz Interior Design Ideas</td>\n",
       "      <td>NaN</td>\n",
       "      <td>NaN</td>\n",
       "      <td>NaN</td>\n",
       "      <td>NaN</td>\n",
       "    </tr>\n",
       "    <tr>\n",
       "      <th>64293</th>\n",
       "      <td>Houzz Interior Design Ideas</td>\n",
       "      <td>NaN</td>\n",
       "      <td>NaN</td>\n",
       "      <td>NaN</td>\n",
       "      <td>NaN</td>\n",
       "    </tr>\n",
       "    <tr>\n",
       "      <th>64294</th>\n",
       "      <td>Houzz Interior Design Ideas</td>\n",
       "      <td>NaN</td>\n",
       "      <td>NaN</td>\n",
       "      <td>NaN</td>\n",
       "      <td>NaN</td>\n",
       "    </tr>\n",
       "  </tbody>\n",
       "</table>\n",
       "<p>64295 rows × 5 columns</p>\n",
       "</div>"
      ],
      "text/plain": [
       "                               App  \\\n",
       "0            10 Best Foods for You   \n",
       "1            10 Best Foods for You   \n",
       "2            10 Best Foods for You   \n",
       "3            10 Best Foods for You   \n",
       "4            10 Best Foods for You   \n",
       "...                            ...   \n",
       "64290  Houzz Interior Design Ideas   \n",
       "64291  Houzz Interior Design Ideas   \n",
       "64292  Houzz Interior Design Ideas   \n",
       "64293  Houzz Interior Design Ideas   \n",
       "64294  Houzz Interior Design Ideas   \n",
       "\n",
       "                                       Translated_Review Sentiment  \\\n",
       "0      I like eat delicious food. That's I'm cooking ...  Positive   \n",
       "1        This help eating healthy exercise regular basis  Positive   \n",
       "2                                                    NaN       NaN   \n",
       "3             Works great especially going grocery store  Positive   \n",
       "4                                           Best idea us  Positive   \n",
       "...                                                  ...       ...   \n",
       "64290                                                NaN       NaN   \n",
       "64291                                                NaN       NaN   \n",
       "64292                                                NaN       NaN   \n",
       "64293                                                NaN       NaN   \n",
       "64294                                                NaN       NaN   \n",
       "\n",
       "       Sentiment_Polarity  Sentiment_Subjectivity  \n",
       "0                    1.00                0.533333  \n",
       "1                    0.25                0.288462  \n",
       "2                     NaN                     NaN  \n",
       "3                    0.40                0.875000  \n",
       "4                    1.00                0.300000  \n",
       "...                   ...                     ...  \n",
       "64290                 NaN                     NaN  \n",
       "64291                 NaN                     NaN  \n",
       "64292                 NaN                     NaN  \n",
       "64293                 NaN                     NaN  \n",
       "64294                 NaN                     NaN  \n",
       "\n",
       "[64295 rows x 5 columns]"
      ]
     },
     "execution_count": 3,
     "metadata": {},
     "output_type": "execute_result"
    }
   ],
   "source": [
    "# Import and Read Dataset\n",
    "df = pd.read_csv(\"E:/Data Analyst Portofilio Data/Datasets/Google Play Store Apps/googleplaystore_user_reviews.csv\")\n",
    "df"
   ]
  },
  {
   "cell_type": "markdown",
   "id": "06c4a3f0",
   "metadata": {},
   "source": [
    "## Data Preprocessing"
   ]
  },
  {
   "cell_type": "code",
   "execution_count": 4,
   "id": "8b2a1c8e",
   "metadata": {},
   "outputs": [
    {
     "name": "stdout",
     "output_type": "stream",
     "text": [
      "<class 'pandas.core.frame.DataFrame'>\n",
      "RangeIndex: 64295 entries, 0 to 64294\n",
      "Data columns (total 5 columns):\n",
      " #   Column                  Non-Null Count  Dtype  \n",
      "---  ------                  --------------  -----  \n",
      " 0   App                     64295 non-null  object \n",
      " 1   Translated_Review       37427 non-null  object \n",
      " 2   Sentiment               37432 non-null  object \n",
      " 3   Sentiment_Polarity      37432 non-null  float64\n",
      " 4   Sentiment_Subjectivity  37432 non-null  float64\n",
      "dtypes: float64(2), object(3)\n",
      "memory usage: 2.5+ MB\n"
     ]
    }
   ],
   "source": [
    "# Display information about dataset \n",
    "df.info()"
   ]
  },
  {
   "cell_type": "code",
   "execution_count": 5,
   "id": "478dc4d7",
   "metadata": {},
   "outputs": [
    {
     "data": {
      "text/plain": [
       "App                           0\n",
       "Translated_Review         26868\n",
       "Sentiment                 26863\n",
       "Sentiment_Polarity        26863\n",
       "Sentiment_Subjectivity    26863\n",
       "dtype: int64"
      ]
     },
     "execution_count": 5,
     "metadata": {},
     "output_type": "execute_result"
    }
   ],
   "source": [
    "# Check null values\n",
    "df.isnull().sum()"
   ]
  },
  {
   "cell_type": "code",
   "execution_count": 10,
   "id": "95a026e4",
   "metadata": {},
   "outputs": [],
   "source": [
    "# Replace Null Values By Specific Values\n",
    "\n",
    "df['Translated_Review'].replace(np.nan,'Unknown',inplace=True)\n",
    "df['Sentiment'].replace(np.nan,'Unknown',inplace=True)\n",
    "df['Sentiment_Polarity'].replace(np.nan,0,inplace=True)\n",
    "df['Sentiment_Subjectivity'].replace(np.nan,0,inplace=True)"
   ]
  },
  {
   "cell_type": "code",
   "execution_count": 11,
   "id": "cbcc67a9",
   "metadata": {},
   "outputs": [
    {
     "data": {
      "text/html": [
       "<div>\n",
       "<style scoped>\n",
       "    .dataframe tbody tr th:only-of-type {\n",
       "        vertical-align: middle;\n",
       "    }\n",
       "\n",
       "    .dataframe tbody tr th {\n",
       "        vertical-align: top;\n",
       "    }\n",
       "\n",
       "    .dataframe thead th {\n",
       "        text-align: right;\n",
       "    }\n",
       "</style>\n",
       "<table border=\"1\" class=\"dataframe\">\n",
       "  <thead>\n",
       "    <tr style=\"text-align: right;\">\n",
       "      <th></th>\n",
       "      <th>App</th>\n",
       "      <th>Translated_Review</th>\n",
       "      <th>Sentiment</th>\n",
       "      <th>Sentiment_Polarity</th>\n",
       "      <th>Sentiment_Subjectivity</th>\n",
       "    </tr>\n",
       "  </thead>\n",
       "  <tbody>\n",
       "    <tr>\n",
       "      <th>0</th>\n",
       "      <td>10 Best Foods for You</td>\n",
       "      <td>I like eat delicious food. That's I'm cooking ...</td>\n",
       "      <td>Positive</td>\n",
       "      <td>1.00</td>\n",
       "      <td>0.533333</td>\n",
       "    </tr>\n",
       "    <tr>\n",
       "      <th>1</th>\n",
       "      <td>10 Best Foods for You</td>\n",
       "      <td>This help eating healthy exercise regular basis</td>\n",
       "      <td>Positive</td>\n",
       "      <td>0.25</td>\n",
       "      <td>0.288462</td>\n",
       "    </tr>\n",
       "    <tr>\n",
       "      <th>2</th>\n",
       "      <td>10 Best Foods for You</td>\n",
       "      <td>Unknown</td>\n",
       "      <td>Unknown</td>\n",
       "      <td>0.00</td>\n",
       "      <td>0.000000</td>\n",
       "    </tr>\n",
       "    <tr>\n",
       "      <th>3</th>\n",
       "      <td>10 Best Foods for You</td>\n",
       "      <td>Works great especially going grocery store</td>\n",
       "      <td>Positive</td>\n",
       "      <td>0.40</td>\n",
       "      <td>0.875000</td>\n",
       "    </tr>\n",
       "    <tr>\n",
       "      <th>4</th>\n",
       "      <td>10 Best Foods for You</td>\n",
       "      <td>Best idea us</td>\n",
       "      <td>Positive</td>\n",
       "      <td>1.00</td>\n",
       "      <td>0.300000</td>\n",
       "    </tr>\n",
       "  </tbody>\n",
       "</table>\n",
       "</div>"
      ],
      "text/plain": [
       "                     App                                  Translated_Review  \\\n",
       "0  10 Best Foods for You  I like eat delicious food. That's I'm cooking ...   \n",
       "1  10 Best Foods for You    This help eating healthy exercise regular basis   \n",
       "2  10 Best Foods for You                                            Unknown   \n",
       "3  10 Best Foods for You         Works great especially going grocery store   \n",
       "4  10 Best Foods for You                                       Best idea us   \n",
       "\n",
       "  Sentiment  Sentiment_Polarity  Sentiment_Subjectivity  \n",
       "0  Positive                1.00                0.533333  \n",
       "1  Positive                0.25                0.288462  \n",
       "2   Unknown                0.00                0.000000  \n",
       "3  Positive                0.40                0.875000  \n",
       "4  Positive                1.00                0.300000  "
      ]
     },
     "execution_count": 11,
     "metadata": {},
     "output_type": "execute_result"
    }
   ],
   "source": [
    "# Read First 5 Rows\n",
    "df.head()"
   ]
  },
  {
   "cell_type": "code",
   "execution_count": 15,
   "id": "593938ba",
   "metadata": {},
   "outputs": [
    {
     "data": {
      "text/plain": [
       "App                       0\n",
       "Translated_Review         0\n",
       "Sentiment                 0\n",
       "Sentiment_Polarity        0\n",
       "Sentiment_Subjectivity    0\n",
       "dtype: int64"
      ]
     },
     "execution_count": 15,
     "metadata": {},
     "output_type": "execute_result"
    }
   ],
   "source": [
    "# Check Null Values\n",
    "df.isnull().sum()"
   ]
  },
  {
   "cell_type": "code",
   "execution_count": 29,
   "id": "a206760a",
   "metadata": {},
   "outputs": [
    {
     "data": {
      "text/plain": [
       "1074"
      ]
     },
     "execution_count": 29,
     "metadata": {},
     "output_type": "execute_result"
    }
   ],
   "source": [
    "# Count Unique Apps\n",
    "df['App'].nunique()"
   ]
  },
  {
   "cell_type": "code",
   "execution_count": 30,
   "id": "f073187f",
   "metadata": {},
   "outputs": [
    {
     "data": {
      "text/plain": [
       "Unknown     26863\n",
       "Positive    23998\n",
       "Negative     8271\n",
       "Neutral      5163\n",
       "Name: Sentiment, dtype: int64"
      ]
     },
     "execution_count": 30,
     "metadata": {},
     "output_type": "execute_result"
    }
   ],
   "source": [
    "# Value Counts Of Sentiment Column\n",
    "df['Sentiment'].value_counts()"
   ]
  },
  {
   "cell_type": "code",
   "execution_count": 33,
   "id": "c60f8af5",
   "metadata": {},
   "outputs": [
    {
     "data": {
      "text/plain": [
       " 0.000000    32026\n",
       " 0.500000     1524\n",
       " 0.700000      991\n",
       " 1.000000      959\n",
       " 0.800000      639\n",
       "             ...  \n",
       "-0.072024        1\n",
       " 0.452000        1\n",
       " 0.076190        1\n",
       "-0.067256        1\n",
       " 0.173333        1\n",
       "Name: Sentiment_Polarity, Length: 5410, dtype: int64"
      ]
     },
     "execution_count": 33,
     "metadata": {},
     "output_type": "execute_result"
    }
   ],
   "source": [
    "# Value Counts Of Sentiment_Polarity Column\n",
    "df['Sentiment_Polarity'].value_counts()"
   ]
  },
  {
   "cell_type": "code",
   "execution_count": 34,
   "id": "d315e664",
   "metadata": {},
   "outputs": [
    {
     "data": {
      "text/plain": [
       "0.000000    31279\n",
       "1.000000     1749\n",
       "0.500000     1647\n",
       "0.600000     1166\n",
       "0.750000     1140\n",
       "            ...  \n",
       "0.616909        1\n",
       "0.234848        1\n",
       "0.154762        1\n",
       "0.591146        1\n",
       "0.259470        1\n",
       "Name: Sentiment_Subjectivity, Length: 4474, dtype: int64"
      ]
     },
     "execution_count": 34,
     "metadata": {},
     "output_type": "execute_result"
    }
   ],
   "source": [
    "# Value Counts Of Sentiment_Subjectivity Column\n",
    "df['Sentiment_Subjectivity'].value_counts()"
   ]
  },
  {
   "cell_type": "markdown",
   "id": "7ac454a6",
   "metadata": {},
   "source": [
    "## Exploratory Data Analysis"
   ]
  },
  {
   "cell_type": "code",
   "execution_count": 35,
   "id": "456a8b38",
   "metadata": {},
   "outputs": [
    {
     "data": {
      "text/plain": [
       "Angry Birds Classic                                  320\n",
       "CBS Sports App - Scores, News, Stats & Watch Live    320\n",
       "Bowmasters                                           320\n",
       "8 Ball Pool                                          300\n",
       "Helix Jump                                           300\n",
       "                                                    ... \n",
       "Easy Healthy Recipes                                  31\n",
       "Dresses Ideas & Fashions +3000                        31\n",
       "Detector de Radares Gratis                            31\n",
       "Easy Hair Style Design                                30\n",
       "Drawing Clothes Fashion Ideas                         30\n",
       "Name: App, Length: 1074, dtype: int64"
      ]
     },
     "execution_count": 35,
     "metadata": {},
     "output_type": "execute_result"
    }
   ],
   "source": [
    "# Value Counts Of Apps \n",
    "df['App'].value_counts()"
   ]
  },
  {
   "cell_type": "code",
   "execution_count": null,
   "id": "4fa63cdc",
   "metadata": {},
   "outputs": [],
   "source": [
    "df.to_csv('E:/Data Analyst Portofilio Data/Datasets/Google Play Store Apps/googleplay_user_reviews_transformation.csv')"
   ]
  }
 ],
 "metadata": {
  "kernelspec": {
   "display_name": "Python 3 (ipykernel)",
   "language": "python",
   "name": "python3"
  },
  "language_info": {
   "codemirror_mode": {
    "name": "ipython",
    "version": 3
   },
   "file_extension": ".py",
   "mimetype": "text/x-python",
   "name": "python",
   "nbconvert_exporter": "python",
   "pygments_lexer": "ipython3",
   "version": "3.10.9"
  }
 },
 "nbformat": 4,
 "nbformat_minor": 5
}
